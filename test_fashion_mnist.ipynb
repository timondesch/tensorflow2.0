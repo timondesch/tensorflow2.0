{
 "cells": [
  {
   "cell_type": "code",
   "execution_count": 1,
   "metadata": {},
   "outputs": [],
   "source": [
    "import matplotlib.pyplot as plt\n",
    "import tensorflow as tf\n",
    "import pandas as pd\n",
    "import numpy as np\n",
    "import sys\n",
    "\n",
    "from sklearn.preprocessing import StandardScaler"
   ]
  },
  {
   "cell_type": "code",
   "execution_count": 2,
   "metadata": {},
   "outputs": [],
   "source": [
    "assert hasattr(tf, \"function\") # tester tf 2.0"
   ]
  },
  {
   "cell_type": "code",
   "execution_count": 3,
   "metadata": {},
   "outputs": [
    {
     "name": "stdout",
     "output_type": "stream",
     "text": [
      "(10000, 28, 28)\n",
      "(10000,)\n",
      "73.00877385204082\n",
      "90.2745808471392\n",
      "(8000, 784) (8000,)\n",
      "(2000, 784) (2000,)\n"
     ]
    }
   ],
   "source": [
    "from sklearn.model_selection import train_test_split\n",
    "\n",
    "fashion_mnist = tf.keras.datasets.fashion_mnist\n",
    "(images, targets), (_, _) = fashion_mnist.load_data()\n",
    "# on ne veut pas le dataset entier\n",
    "images = images[:10000]\n",
    "targets = targets[:10000]\n",
    "\n",
    "print(images.shape)\n",
    "print(targets.shape)\n",
    "\n",
    "print(images.mean())\n",
    "print(images.std())\n",
    "\n",
    "images = images.reshape(-1, 784)\n",
    "images = images.astype(float)\n",
    "\n",
    "scaler = StandardScaler()\n",
    "images = scaler.fit_transform(images)\n",
    "\n",
    "images_train, images_test, target_train, target_test = train_test_split(images, targets, test_size=0.2, random_state = 1)\n",
    "\n",
    "print(images_train.shape, target_train.shape)\n",
    "print(images_test.shape, target_test.shape)\n",
    "\n",
    "#print(images.mean())\n",
    "#print(images.std())\n",
    "\n",
    "# print(images[0])\n",
    "# print(target[0])"
   ]
  },
  {
   "cell_type": "code",
   "execution_count": 4,
   "metadata": {},
   "outputs": [
    {
     "data": {
      "image/png": "[encoded data removed]",
      "text/plain": [
       "<Figure size 432x288 with 1 Axes>"
      ]
     },
     "metadata": {
      "needs_background": "light"
     },
     "output_type": "display_data"
    }
   ],
   "source": [
    "targets_names = [\"tshirt\", \"pantalon\", \"pull\", \"robe\", \"manteau\", \"sandales\",\n",
    "                 \"chemise soin\", \"basket\", \"sac\", \"bottines\"]\n",
    "\n",
    "# on affiche une image\n",
    "plt.imshow(images[9462].reshape(28, 28), cmap=\"binary\")\n",
    "plt.title(targets_names[targets[9462]])\n",
    "plt.show()"
   ]
  },
  {
   "cell_type": "code",
   "execution_count": 5,
   "metadata": {},
   "outputs": [
    {
     "name": "stdout",
     "output_type": "stream",
     "text": [
      "first line -0.061566167073155396\n"
     ]
    }
   ],
   "source": [
    "print(\"first line\", images[9462][4])"
   ]
  },
  {
   "cell_type": "code",
   "execution_count": 6,
   "metadata": {},
   "outputs": [
    {
     "name": "stdout",
     "output_type": "stream",
     "text": [
      "[[0.05073196 0.00740872 0.40964323 0.00317909 0.01717069 0.01077345\n",
      "  0.13854708 0.15974069 0.17491493 0.02789005]] [9]\n"
     ]
    }
   ],
   "source": [
    "# on va créer le modele, 256 neurones into 128, puis 10 neurones en sortie\n",
    "model = tf.keras.models.Sequential()\n",
    "#model.add(tf.keras.layers.Flatten(input_shape=[28, 28])) # on passe l'image de hotshot en un seul vecteur, plus besoin avec le truc importé en haut\n",
    "model.add(tf.keras.layers.Dense(256, activation=\"relu\")) # on crée le premier layer\n",
    "model.add(tf.keras.layers.Dense(128, activation=\"relu\")) # on crée le second layer\n",
    "model.add(tf.keras.layers.Dense(10, activation=\"softmax\")) # on crée le layer d'output\n",
    "\n",
    "model_output = model.predict(images[0:1]) # on fait une predictino sur la premiere image du dataset\n",
    "print(model_output, targets[0:1])"
   ]
  },
  {
   "cell_type": "code",
   "execution_count": 7,
   "metadata": {},
   "outputs": [
    {
     "name": "stdout",
     "output_type": "stream",
     "text": [
      "Model: \"sequential\"\n",
      "_________________________________________________________________\n",
      "Layer (type)                 Output Shape              Param #   \n",
      "=================================================================\n",
      "dense (Dense)                multiple                  200960    \n",
      "_________________________________________________________________\n",
      "dense_1 (Dense)              multiple                  32896     \n",
      "_________________________________________________________________\n",
      "dense_2 (Dense)              multiple                  1290      \n",
      "=================================================================\n",
      "Total params: 235,146\n",
      "Trainable params: 235,146\n",
      "Non-trainable params: 0\n",
      "_________________________________________________________________\n"
     ]
    }
   ],
   "source": [
    "model.summary()"
   ]
  },
  {
   "cell_type": "code",
   "execution_count": 8,
   "metadata": {},
   "outputs": [],
   "source": [
    "# on compile le modele : on utilise telle fonction d'erreur\n",
    "# sgd = stochistic gradient descent\n",
    "# sparse pour psa avoir besoin de faire du one-hot\n",
    "\n",
    "model.compile(\n",
    "    loss=\"sparse_categorical_crossentropy\",\n",
    "    optimizer=\"sgd\",\n",
    "    metrics=[\"accuracy\"])"
   ]
  },
  {
   "cell_type": "code",
   "execution_count": 9,
   "metadata": {
    "scrolled": true
   },
   "outputs": [
    {
     "name": "stderr",
     "output_type": "stream",
     "text": [
      "WARNING: Logging before flag parsing goes to stderr.\n",
      "W0612 15:24:32.102543 13100 deprecation.py:323] From c:\\users\\timon\\appdata\\local\\programs\\python\\python36\\lib\\site-packages\\tensorflow\\python\\ops\\math_grad.py:1250: add_dispatch_support.<locals>.wrapper (from tensorflow.python.ops.array_ops) is deprecated and will be removed in a future version.\n",
      "Instructions for updating:\n",
      "Use tf.where in 2.0, which has the same broadcast rule as np.where\n"
     ]
    },
    {
     "name": "stdout",
     "output_type": "stream",
     "text": [
      "Train on 6400 samples, validate on 1600 samples\n",
      "Epoch 1/50\n",
      "6400/6400 [==============================] - 0s 67us/sample - loss: 0.9288 - accuracy: 0.6916 - val_loss: 0.6511 - val_accuracy: 0.7769\n",
      "Epoch 2/50\n",
      "6400/6400 [==============================] - 0s 53us/sample - loss: 0.5531 - accuracy: 0.8017 - val_loss: 0.5527 - val_accuracy: 0.8037\n",
      "Epoch 3/50\n",
      "6400/6400 [==============================] - 0s 56us/sample - loss: 0.4627 - accuracy: 0.8422 - val_loss: 0.5060 - val_accuracy: 0.8100\n",
      "Epoch 4/50\n",
      "6400/6400 [==============================] - 0s 53us/sample - loss: 0.4103 - accuracy: 0.8581 - val_loss: 0.4743 - val_accuracy: 0.8225\n",
      "Epoch 5/50\n",
      "6400/6400 [==============================] - 0s 53us/sample - loss: 0.3727 - accuracy: 0.8706 - val_loss: 0.4629 - val_accuracy: 0.8281\n",
      "Epoch 6/50\n",
      "6400/6400 [==============================] - 0s 53us/sample - loss: 0.3444 - accuracy: 0.8816 - val_loss: 0.4509 - val_accuracy: 0.8375\n",
      "Epoch 7/50\n",
      "6400/6400 [==============================] - 0s 53us/sample - loss: 0.3178 - accuracy: 0.8922 - val_loss: 0.4527 - val_accuracy: 0.8294\n",
      "Epoch 8/50\n",
      "6400/6400 [==============================] - 0s 53us/sample - loss: 0.2983 - accuracy: 0.8998 - val_loss: 0.4391 - val_accuracy: 0.8344\n",
      "Epoch 9/50\n",
      "6400/6400 [==============================] - 0s 53us/sample - loss: 0.2801 - accuracy: 0.9048 - val_loss: 0.4287 - val_accuracy: 0.8413\n",
      "Epoch 10/50\n",
      "6400/6400 [==============================] - 0s 52us/sample - loss: 0.2635 - accuracy: 0.9108 - val_loss: 0.4306 - val_accuracy: 0.8425\n",
      "Epoch 11/50\n",
      "6400/6400 [==============================] - 0s 52us/sample - loss: 0.2475 - accuracy: 0.9202 - val_loss: 0.4267 - val_accuracy: 0.8438\n",
      "Epoch 12/50\n",
      "6400/6400 [==============================] - 0s 53us/sample - loss: 0.2337 - accuracy: 0.9267 - val_loss: 0.4417 - val_accuracy: 0.8350\n",
      "Epoch 13/50\n",
      "6400/6400 [==============================] - 0s 53us/sample - loss: 0.2214 - accuracy: 0.9289 - val_loss: 0.4211 - val_accuracy: 0.8494\n",
      "Epoch 14/50\n",
      "6400/6400 [==============================] - 0s 52us/sample - loss: 0.2084 - accuracy: 0.9355 - val_loss: 0.4185 - val_accuracy: 0.8450\n",
      "Epoch 15/50\n",
      "6400/6400 [==============================] - 0s 53us/sample - loss: 0.1960 - accuracy: 0.9389 - val_loss: 0.4213 - val_accuracy: 0.8400\n",
      "Epoch 16/50\n",
      "6400/6400 [==============================] - 0s 53us/sample - loss: 0.1857 - accuracy: 0.9466 - val_loss: 0.4217 - val_accuracy: 0.8425\n",
      "Epoch 17/50\n",
      "6400/6400 [==============================] - 0s 53us/sample - loss: 0.1760 - accuracy: 0.9477 - val_loss: 0.4252 - val_accuracy: 0.8431\n",
      "Epoch 18/50\n",
      "6400/6400 [==============================] - 0s 53us/sample - loss: 0.1656 - accuracy: 0.9520 - val_loss: 0.4227 - val_accuracy: 0.8519\n",
      "Epoch 19/50\n",
      "6400/6400 [==============================] - 0s 53us/sample - loss: 0.1580 - accuracy: 0.9527 - val_loss: 0.4181 - val_accuracy: 0.8500\n",
      "Epoch 20/50\n",
      "6400/6400 [==============================] - 0s 54us/sample - loss: 0.1493 - accuracy: 0.9555 - val_loss: 0.4238 - val_accuracy: 0.8462\n",
      "Epoch 21/50\n",
      "6400/6400 [==============================] - 0s 54us/sample - loss: 0.1400 - accuracy: 0.9595 - val_loss: 0.4204 - val_accuracy: 0.8462\n",
      "Epoch 22/50\n",
      "6400/6400 [==============================] - 0s 53us/sample - loss: 0.1323 - accuracy: 0.9661 - val_loss: 0.4307 - val_accuracy: 0.8494\n",
      "Epoch 23/50\n",
      "6400/6400 [==============================] - 0s 54us/sample - loss: 0.1260 - accuracy: 0.9666 - val_loss: 0.4563 - val_accuracy: 0.8425\n",
      "Epoch 24/50\n",
      "6400/6400 [==============================] - 0s 54us/sample - loss: 0.1197 - accuracy: 0.9702 - val_loss: 0.4318 - val_accuracy: 0.8512\n",
      "Epoch 25/50\n",
      "6400/6400 [==============================] - 0s 53us/sample - loss: 0.1124 - accuracy: 0.9728 - val_loss: 0.4376 - val_accuracy: 0.8462\n",
      "Epoch 26/50\n",
      "6400/6400 [==============================] - 0s 54us/sample - loss: 0.1073 - accuracy: 0.9727 - val_loss: 0.4340 - val_accuracy: 0.8519\n",
      "Epoch 27/50\n",
      "6400/6400 [==============================] - 0s 53us/sample - loss: 0.0999 - accuracy: 0.9795 - val_loss: 0.4371 - val_accuracy: 0.8469\n",
      "Epoch 28/50\n",
      "6400/6400 [==============================] - 0s 53us/sample - loss: 0.0946 - accuracy: 0.9808 - val_loss: 0.4439 - val_accuracy: 0.8494\n",
      "Epoch 29/50\n",
      "6400/6400 [==============================] - 0s 54us/sample - loss: 0.0894 - accuracy: 0.9820 - val_loss: 0.4355 - val_accuracy: 0.8487\n",
      "Epoch 30/50\n",
      "6400/6400 [==============================] - 0s 55us/sample - loss: 0.0845 - accuracy: 0.9828 - val_loss: 0.4442 - val_accuracy: 0.8475\n",
      "Epoch 31/50\n",
      "6400/6400 [==============================] - 0s 54us/sample - loss: 0.0798 - accuracy: 0.9836 - val_loss: 0.4509 - val_accuracy: 0.8475\n",
      "Epoch 32/50\n",
      "6400/6400 [==============================] - 0s 58us/sample - loss: 0.0767 - accuracy: 0.9847 - val_loss: 0.4472 - val_accuracy: 0.8494\n",
      "Epoch 33/50\n",
      "6400/6400 [==============================] - 0s 57us/sample - loss: 0.0728 - accuracy: 0.9856 - val_loss: 0.4566 - val_accuracy: 0.8475\n",
      "Epoch 34/50\n",
      "6400/6400 [==============================] - 0s 59us/sample - loss: 0.0671 - accuracy: 0.9891 - val_loss: 0.4549 - val_accuracy: 0.8531\n",
      "Epoch 35/50\n",
      "6400/6400 [==============================] - 0s 59us/sample - loss: 0.0637 - accuracy: 0.9889 - val_loss: 0.4593 - val_accuracy: 0.8525\n",
      "Epoch 36/50\n",
      "6400/6400 [==============================] - 0s 56us/sample - loss: 0.0610 - accuracy: 0.9903 - val_loss: 0.4623 - val_accuracy: 0.8500\n",
      "Epoch 37/50\n",
      "6400/6400 [==============================] - 0s 54us/sample - loss: 0.0576 - accuracy: 0.9917 - val_loss: 0.4772 - val_accuracy: 0.8512\n",
      "Epoch 38/50\n",
      "6400/6400 [==============================] - 0s 54us/sample - loss: 0.0543 - accuracy: 0.9922 - val_loss: 0.4702 - val_accuracy: 0.8494\n",
      "Epoch 39/50\n",
      "6400/6400 [==============================] - 0s 54us/sample - loss: 0.0511 - accuracy: 0.9933 - val_loss: 0.4787 - val_accuracy: 0.8500\n",
      "Epoch 40/50\n",
      "6400/6400 [==============================] - 0s 53us/sample - loss: 0.0484 - accuracy: 0.9942 - val_loss: 0.4763 - val_accuracy: 0.8525\n",
      "Epoch 41/50\n",
      "6400/6400 [==============================] - 0s 53us/sample - loss: 0.0457 - accuracy: 0.9952 - val_loss: 0.4838 - val_accuracy: 0.8494\n",
      "Epoch 42/50\n",
      "6400/6400 [==============================] - 0s 53us/sample - loss: 0.0434 - accuracy: 0.9955 - val_loss: 0.4945 - val_accuracy: 0.8487\n",
      "Epoch 43/50\n",
      "6400/6400 [==============================] - 0s 53us/sample - loss: 0.0413 - accuracy: 0.9966 - val_loss: 0.4890 - val_accuracy: 0.8469\n",
      "Epoch 44/50\n",
      "6400/6400 [==============================] - 0s 53us/sample - loss: 0.0396 - accuracy: 0.9964 - val_loss: 0.4927 - val_accuracy: 0.8506\n",
      "Epoch 45/50\n",
      "6400/6400 [==============================] - 0s 55us/sample - loss: 0.0372 - accuracy: 0.9973 - val_loss: 0.4939 - val_accuracy: 0.8487\n",
      "Epoch 46/50\n",
      "6400/6400 [==============================] - 0s 56us/sample - loss: 0.0354 - accuracy: 0.9972 - val_loss: 0.5065 - val_accuracy: 0.8462\n",
      "Epoch 47/50\n",
      "6400/6400 [==============================] - 0s 58us/sample - loss: 0.0337 - accuracy: 0.9975 - val_loss: 0.5052 - val_accuracy: 0.8494\n",
      "Epoch 48/50\n",
      "6400/6400 [==============================] - 0s 60us/sample - loss: 0.0320 - accuracy: 0.9973 - val_loss: 0.5075 - val_accuracy: 0.8500\n",
      "Epoch 49/50\n",
      "6400/6400 [==============================] - 0s 61us/sample - loss: 0.0307 - accuracy: 0.9984 - val_loss: 0.5034 - val_accuracy: 0.8544\n",
      "Epoch 50/50\n",
      "6400/6400 [==============================] - 0s 57us/sample - loss: 0.0295 - accuracy: 0.9981 - val_loss: 0.5123 - val_accuracy: 0.8531\n"
     ]
    }
   ],
   "source": [
    "# train the model\n",
    "\n",
    "history = model.fit(images_train, target_train, epochs = 50, validation_split=0.2)"
   ]
  },
  {
   "cell_type": "code",
   "execution_count": 10,
   "metadata": {
    "scrolled": false
   },
   "outputs": [
    {
     "data": {
      "image/png": "[encoded data removed]",
      "text/plain": [
       "<Figure size 432x288 with 1 Axes>"
      ]
     },
     "metadata": {
      "needs_background": "light"
     },
     "output_type": "display_data"
    },
    {
     "data": {
      "image/png": "[encoded data removed]",
      "text/plain": [
       "<Figure size 432x288 with 1 Axes>"
      ]
     },
     "metadata": {
      "needs_background": "light"
     },
     "output_type": "display_data"
    }
   ],
   "source": [
    "\n",
    "loss_curve = history.history[\"loss\"]\n",
    "acc_curve = history.history[\"accuracy\"]\n",
    "\n",
    "loss_val_curve = history.history[\"val_loss\"]\n",
    "acc_val_curve = history.history[\"val_accuracy\"]\n",
    "\n",
    "plt.plot(loss_curve, label=\"train\")\n",
    "plt.plot(loss_val_curve, label=\"Val\")\n",
    "plt.title(\"Loss\")\n",
    "plt.legend(loc=\"upper left\")\n",
    "plt.show()\n",
    "\n",
    "plt.plot(acc_curve, label=\"train\")\n",
    "plt.plot(acc_val_curve, label=\"val\")\n",
    "plt.title(\"Accuracy\")\n",
    "plt.legend(loc=\"upper left\")\n",
    "plt.show()"
   ]
  },
  {
   "cell_type": "code",
   "execution_count": 12,
   "metadata": {},
   "outputs": [
    {
     "name": "stdout",
     "output_type": "stream",
     "text": [
      "2000/2000 [==============================] - 0s 39us/sample - loss: 0.5451 - accuracy: 0.8525\n",
      "Test loss 0.5450860595703125\n",
      "Train accuracy 0.8525\n"
     ]
    }
   ],
   "source": [
    "loss, acc = model.evaluate(images_test, target_test)\n",
    "print(\"Test loss\", loss)\n",
    "print(\"Train accuracy\", acc)"
   ]
  },
  {
   "cell_type": "code",
   "execution_count": null,
   "metadata": {
    "collapsed": true
   },
   "outputs": [],
   "source": []
  }
 ],
 "metadata": {
  "kernelspec": {
   "display_name": "Python 3",
   "language": "python",
   "name": "python3"
  },
  "language_info": {
   "codemirror_mode": {
    "name": "ipython",
    "version": 3
   },
   "file_extension": ".py",
   "mimetype": "text/x-python",
   "name": "python",
   "nbconvert_exporter": "python",
   "pygments_lexer": "ipython3",
   "version": "3.6.8"
  }
 },
 "nbformat": 4,
 "nbformat_minor": 2
}
