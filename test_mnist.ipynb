{
 "cells": [
  {
   "cell_type": "code",
   "execution_count": 1,
   "metadata": {},
   "outputs": [],
   "source": [
    "import matplotlib.pyplot as plt\n",
    "import tensorflow as tf\n",
    "import pandas as pd\n",
    "import numpy as np\n",
    "import sys\n",
    "\n",
    "from sklearn.preprocessing import StandardScaler"
   ]
  },
  {
   "cell_type": "code",
   "execution_count": 2,
   "metadata": {
    "scrolled": false
   },
   "outputs": [],
   "source": [
    "assert hasattr(tf, \"function\") # tester tf 2.0"
   ]
  },
  {
   "cell_type": "code",
   "execution_count": 3,
   "metadata": {},
   "outputs": [
    {
     "name": "stdout",
     "output_type": "stream",
     "text": [
      "(10000, 784)\n"
     ]
    }
   ],
   "source": [
    "from sklearn.model_selection import train_test_split\n",
    "\n",
    "fashion_mnist = tf.keras.datasets.mnist\n",
    "(images, targets), (_, _) = fashion_mnist.load_data()\n",
    "# on ne veut pas le dataset entier\n",
    "images = images[:10000]\n",
    "targets = targets[:10000]\n",
    "\n",
    "#print(images.shape)\n",
    "#print(targets.shape)\n",
    "\n",
    "#print(images.mean())\n",
    "#print(images.std())\n",
    "\n",
    "images = images.reshape(-1, 784)\n",
    "images = images.astype(float)\n",
    "print(images.shape)\n",
    "scaler = StandardScaler()\n",
    "images = scaler.fit_transform(images)\n",
    "\n",
    "images_train, images_test, target_train, target_test = train_test_split(images, targets, test_size=0.2, random_state = 1)\n",
    "\n",
    "#print(images_train.shape, target_train.shape)\n",
    "#print(images_test.shape, target_test.shape)\n",
    "\n",
    "#print(images.mean())\n",
    "#print(images.std())\n",
    "\n",
    "# print(images[0])\n",
    "# print(target[0])"
   ]
  },
  {
   "cell_type": "code",
   "execution_count": 4,
   "metadata": {},
   "outputs": [
    {
     "data": {
      "image/png": "[encoded data removed]",
      "text/plain": [
       "<Figure size 432x288 with 1 Axes>"
      ]
     },
     "metadata": {
      "needs_background": "light"
     },
     "output_type": "display_data"
    }
   ],
   "source": [
    "targets_names = [\"0\", \"1\", \"2\", \"3\", \"4\", \"5\",\n",
    "                 \"6\", \"7\", \"8\", \"9\"]\n",
    "\n",
    "# on affiche une image\n",
    "plt.imshow(images[9462].reshape(28, 28), cmap=\"binary\")\n",
    "plt.title(targets_names[targets[9462]])\n",
    "plt.show()"
   ]
  },
  {
   "cell_type": "code",
   "execution_count": 5,
   "metadata": {},
   "outputs": [
    {
     "name": "stdout",
     "output_type": "stream",
     "text": [
      "[[0.18647307 0.11299474 0.02982679 0.18921183 0.18777962 0.060893\n",
      "  0.16500033 0.0140585  0.03921632 0.01454577]] [5]\n"
     ]
    }
   ],
   "source": [
    "# on va créer le modele, 256 neurones into 128, puis 10 neurones en sortie\n",
    "model = tf.keras.models.Sequential()\n",
    "#model.add(tf.keras.layers.Flatten(input_shape=[28, 28])) # on passe l'image de hotshot en un seul vecteur, plus besoin avec le truc importé en haut\n",
    "model.add(tf.keras.layers.Dense(256, activation=\"relu\")) # on crée le premier layer\n",
    "model.add(tf.keras.layers.Dense(128, activation=\"relu\")) # on crée le second layer\n",
    "model.add(tf.keras.layers.Dense(10, activation=\"softmax\")) # on crée le layer d'output\n",
    "\n",
    "model_output = model.predict(images[0:1]) # on fait une predictino sur la premiere image du dataset\n",
    "print(model_output, targets[0:1])"
   ]
  },
  {
   "cell_type": "code",
   "execution_count": 6,
   "metadata": {},
   "outputs": [],
   "source": [
    "# on compile le modele : on utilise telle fonction d'erreur\n",
    "# sgd = stochistic gradient descent\n",
    "# sparse pour psa avoir besoin de faire du one-hot\n",
    "\n",
    "model.compile(\n",
    "    loss=\"sparse_categorical_crossentropy\",\n",
    "    optimizer=\"sgd\",\n",
    "    metrics=[\"accuracy\"])"
   ]
  },
  {
   "cell_type": "code",
   "execution_count": 7,
   "metadata": {},
   "outputs": [
    {
     "name": "stderr",
     "output_type": "stream",
     "text": [
      "WARNING: Logging before flag parsing goes to stderr.\n",
      "W0614 09:07:41.659848  7932 deprecation.py:323] From c:\\users\\timon\\appdata\\local\\programs\\python\\python36\\lib\\site-packages\\tensorflow\\python\\ops\\math_grad.py:1250: add_dispatch_support.<locals>.wrapper (from tensorflow.python.ops.array_ops) is deprecated and will be removed in a future version.\n",
      "Instructions for updating:\n",
      "Use tf.where in 2.0, which has the same broadcast rule as np.where\n"
     ]
    },
    {
     "name": "stdout",
     "output_type": "stream",
     "text": [
      "Train on 6400 samples, validate on 1600 samples\n",
      "Epoch 1/10\n",
      "6400/6400 [==============================] - 1s 81us/sample - loss: 1.1256 - accuracy: 0.6833 - val_loss: 0.6303 - val_accuracy: 0.8356\n",
      "Epoch 2/10\n",
      "6400/6400 [==============================] - 0s 54us/sample - loss: 0.4541 - accuracy: 0.8791 - val_loss: 0.4320 - val_accuracy: 0.8831\n",
      "Epoch 3/10\n",
      "6400/6400 [==============================] - 0s 55us/sample - loss: 0.3219 - accuracy: 0.9119 - val_loss: 0.3672 - val_accuracy: 0.8981\n",
      "Epoch 4/10\n",
      "6400/6400 [==============================] - 0s 54us/sample - loss: 0.2592 - accuracy: 0.9309 - val_loss: 0.3327 - val_accuracy: 0.9069\n",
      "Epoch 5/10\n",
      "6400/6400 [==============================] - 0s 54us/sample - loss: 0.2183 - accuracy: 0.9422 - val_loss: 0.3110 - val_accuracy: 0.9131\n",
      "Epoch 6/10\n",
      "6400/6400 [==============================] - 0s 53us/sample - loss: 0.1883 - accuracy: 0.9522 - val_loss: 0.2967 - val_accuracy: 0.9181\n",
      "Epoch 7/10\n",
      "6400/6400 [==============================] - 0s 54us/sample - loss: 0.1650 - accuracy: 0.9589 - val_loss: 0.2834 - val_accuracy: 0.9181\n",
      "Epoch 8/10\n",
      "6400/6400 [==============================] - 0s 54us/sample - loss: 0.1465 - accuracy: 0.9648 - val_loss: 0.2784 - val_accuracy: 0.9206\n",
      "Epoch 9/10\n",
      "6400/6400 [==============================] - 0s 53us/sample - loss: 0.1305 - accuracy: 0.9698 - val_loss: 0.2701 - val_accuracy: 0.9219\n",
      "Epoch 10/10\n",
      "6400/6400 [==============================] - 0s 54us/sample - loss: 0.1170 - accuracy: 0.9737 - val_loss: 0.2669 - val_accuracy: 0.9212\n"
     ]
    }
   ],
   "source": [
    "# train the model\n",
    "\n",
    "history = model.fit(images_train, target_train, epochs = 10, validation_split=0.2)"
   ]
  },
  {
   "cell_type": "code",
   "execution_count": 8,
   "metadata": {},
   "outputs": [
    {
     "data": {
      "image/png": "[encoded data removed]",
      "text/plain": [
       "<Figure size 432x288 with 1 Axes>"
      ]
     },
     "metadata": {
      "needs_background": "light"
     },
     "output_type": "display_data"
    },
    {
     "data": {
      "image/png": "[encoded data removed]",
      "text/plain": [
       "<Figure size 432x288 with 1 Axes>"
      ]
     },
     "metadata": {
      "needs_background": "light"
     },
     "output_type": "display_data"
    }
   ],
   "source": [
    "\n",
    "loss_curve = history.history[\"loss\"]\n",
    "acc_curve = history.history[\"accuracy\"]\n",
    "\n",
    "loss_val_curve = history.history[\"val_loss\"]\n",
    "acc_val_curve = history.history[\"val_accuracy\"]\n",
    "\n",
    "plt.plot(loss_curve, label=\"train\")\n",
    "plt.plot(loss_val_curve, label=\"Val\")\n",
    "plt.title(\"Loss\")\n",
    "plt.legend(loc=\"upper left\")\n",
    "plt.show()\n",
    "\n",
    "plt.plot(acc_curve, label=\"train\")\n",
    "plt.plot(acc_val_curve, label=\"val\")\n",
    "plt.title(\"Accuracy\")\n",
    "plt.legend(loc=\"upper left\")\n",
    "plt.show()"
   ]
  },
  {
   "cell_type": "code",
   "execution_count": 9,
   "metadata": {},
   "outputs": [
    {
     "name": "stdout",
     "output_type": "stream",
     "text": [
      "[[8.2029883e-06 5.6369286e-06 1.9000801e-04 9.9335021e-01 3.3622760e-07\n",
      "  3.7134627e-03 3.5669456e-07 1.0902332e-07 2.4685019e-03 2.6319816e-04]] [3]\n"
     ]
    },
    {
     "data": {
      "image/png": "[encoded data removed]",
      "text/plain": [
       "<Figure size 432x288 with 1 Axes>"
      ]
     },
     "metadata": {
      "needs_background": "light"
     },
     "output_type": "display_data"
    }
   ],
   "source": [
    "print(model.predict(images_test[0: 1]), target_test[0:1])\n",
    "plt.imshow(images_test[0].reshape(28, 28), cmap=\"binary\")\n",
    "plt.title(target_test[0])\n",
    "plt.show()"
   ]
  },
  {
   "cell_type": "code",
   "execution_count": 33,
   "metadata": {
    "scrolled": true
   },
   "outputs": [
    {
     "data": {
      "image/png": "[encoded data removed]",
      "text/plain": [
       "<Figure size 432x288 with 1 Axes>"
      ]
     },
     "metadata": {
      "needs_background": "light"
     },
     "output_type": "display_data"
    }
   ],
   "source": [
    "import cv2\n",
    "import numpy as np\n",
    "\n",
    "img = cv2.imread(\"image.png\", cv2.IMREAD_GRAYSCALE)\n",
    "img = img.astype('float32')\n",
    "img = img.reshape(-1, 784)\n",
    "img = 255-img\n",
    "img /= 255\n",
    "plt.imshow(img.reshape(28, 28), cmap=\"binary\")\n",
    "plt.show()"
   ]
  },
  {
   "cell_type": "code",
   "execution_count": 34,
   "metadata": {},
   "outputs": [
    {
     "name": "stdout",
     "output_type": "stream",
     "text": [
      "[[0.05642354 0.01645117 0.13637318 0.14071567 0.01421119 0.04142617\n",
      "  0.08825444 0.00923527 0.39166087 0.1052485 ]]\n"
     ]
    }
   ],
   "source": [
    "model_output = model.predict(img) # on fait une predictino sur la premiere image du dataset\n",
    "print(model_output)"
   ]
  },
  {
   "cell_type": "code",
   "execution_count": null,
   "metadata": {},
   "outputs": [],
   "source": []
  }
 ],
 "metadata": {
  "kernelspec": {
   "display_name": "Python 3",
   "language": "python",
   "name": "python3"
  },
  "language_info": {
   "codemirror_mode": {
    "name": "ipython",
    "version": 3
   },
   "file_extension": ".py",
   "mimetype": "text/x-python",
   "name": "python",
   "nbconvert_exporter": "python",
   "pygments_lexer": "ipython3",
   "version": "3.6.8"
  }
 },
 "nbformat": 4,
 "nbformat_minor": 2
}
